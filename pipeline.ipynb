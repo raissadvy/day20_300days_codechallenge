{
 "cells": [
  {
   "cell_type": "code",
   "execution_count": 1,
   "metadata": {},
   "outputs": [],
   "source": [
    "from collections import Counter\n",
    "from sklearn.datasets import make_classification\n",
    "from sklearn.model_selection import train_test_split as tts\n",
    "from sklearn.decomposition import PCA\n",
    "from sklearn.neighbors import KNeighborsClassifier as KNN\n",
    "from sklearn.metrics import classification_report\n",
    "from imblearn.over_sampling import SMOTE\n",
    "from imblearn.pipeline import Pipeline \n"
   ]
  },
  {
   "cell_type": "code",
   "execution_count": 5,
   "metadata": {},
   "outputs": [
    {
     "name": "stdout",
     "output_type": "stream",
     "text": [
      "Original dataset shape Counter({1: 900, 0: 100})\n",
      "              precision    recall  f1-score   support\n",
      "\n",
      "           0       0.87      1.00      0.93        26\n",
      "           1       1.00      0.98      0.99       224\n",
      "\n",
      "    accuracy                           0.98       250\n",
      "   macro avg       0.93      0.99      0.96       250\n",
      "weighted avg       0.99      0.98      0.98       250\n",
      "\n"
     ]
    }
   ],
   "source": [
    "X, y = make_classification(n_classes=2, class_sep=2, weights=[0.1, 0.9], n_informative=3, n_redundant=1, flip_y=0,\n",
    "n_features=20, n_clusters_per_class=1, n_samples=1000, random_state=10)\n",
    "\n",
    "print('Original dataset shape {}'.format(Counter(y)))\n",
    "\n",
    "# Original dataset shape Counter({1: 900, 0: 100})\n",
    "\n",
    "pca = PCA()\n",
    "smt = SMOTE(random_state=42)\n",
    "knn = KNN()\n",
    "\n",
    "# define isi pipeline dulu\n",
    "pipeline = Pipeline([('smt', smt), \n",
    "                     ('pca', pca), \n",
    "                     ('knn', knn)])\n",
    "\n",
    "X_train, X_test, y_train, y_test = tts(X, y, random_state=42)\n",
    "\n",
    "# nge-fit ke pipeline (khusus yang buat X_train, y_train), x_test gausa\n",
    "pipeline.fit(X_train, y_train) \n",
    "\n",
    "\n",
    "\n",
    "y_hat = pipeline.predict(X_test)\n",
    "print(classification_report(y_test, y_hat))"
   ]
  },
  {
   "cell_type": "code",
   "execution_count": null,
   "metadata": {},
   "outputs": [],
   "source": []
  }
 ],
 "metadata": {
  "kernelspec": {
   "display_name": "Python 3",
   "language": "python",
   "name": "python3"
  },
  "language_info": {
   "codemirror_mode": {
    "name": "ipython",
    "version": 3
   },
   "file_extension": ".py",
   "mimetype": "text/x-python",
   "name": "python",
   "nbconvert_exporter": "python",
   "pygments_lexer": "ipython3",
   "version": "3.7.9"
  }
 },
 "nbformat": 4,
 "nbformat_minor": 4
}
